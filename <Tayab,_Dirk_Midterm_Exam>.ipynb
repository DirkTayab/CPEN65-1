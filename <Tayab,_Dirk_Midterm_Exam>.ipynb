{
  "nbformat": 4,
  "nbformat_minor": 0,
  "metadata": {
    "colab": {
      "provenance": [],
      "authorship_tag": "ABX9TyPd8KzL845ckEOAf9HFsdtZ",
      "include_colab_link": true
    },
    "kernelspec": {
      "name": "python3",
      "display_name": "Python 3"
    },
    "language_info": {
      "name": "python"
    }
  },
  "cells": [
    {
      "cell_type": "markdown",
      "metadata": {
        "id": "view-in-github",
        "colab_type": "text"
      },
      "source": [
        "<a href=\"https://colab.research.google.com/github/DirkTayab/CPEN65-1/blob/main/%3CTayab%2C_Dirk_Midterm_Exam%3E.ipynb\" target=\"_parent\"><img src=\"https://colab.research.google.com/assets/colab-badge.svg\" alt=\"Open In Colab\"/></a>"
      ]
    },
    {
      "cell_type": "markdown",
      "source": [
        "1"
      ],
      "metadata": {
        "id": "z38pRHv8VuqP"
      }
    },
    {
      "cell_type": "code",
      "execution_count": 27,
      "metadata": {
        "colab": {
          "base_uri": "https://localhost:8080/"
        },
        "id": "3sZk_mTyGMjw",
        "outputId": "f22161aa-1b5c-4a28-c309-d75884fad8e4"
      },
      "outputs": [
        {
          "output_type": "stream",
          "name": "stdout",
          "text": [
            "[1, 2, 3, 4, 5, 6, 7, 8, 9, 10]\n",
            "Array [0] = 1\n",
            "Array [1] = 2\n",
            "Array [2] = 3\n",
            "Array [3] = 4\n",
            "Array [4] = 5\n",
            "Array [5] = 6\n",
            "Array [6] = 7\n",
            "Array [7] = 8\n",
            "Array [8] = 9\n",
            "Array [9] = 10\n",
            "Sum of all integers:  55\n"
          ]
        }
      ],
      "source": [
        "#Display 10 integer array\n",
        "numbers = [1, 2, 3, 4, 5, 6, 7, 8, 9, 10]\n",
        "print(numbers)\n",
        "\n",
        "#Access indiv elements through indexes\n",
        "for i, x in enumerate(numbers):\n",
        "  print(\"Array\", [i], \"=\", x)\n",
        "\n",
        "#Compute for sum\n",
        "print(\"Sum of all integers: \" , sum(numbers))"
      ]
    },
    {
      "cell_type": "markdown",
      "source": [
        "2"
      ],
      "metadata": {
        "id": "gZ9cgI6_V1do"
      }
    },
    {
      "cell_type": "code",
      "source": [
        "#Append to end of array\n",
        "numbers = [1, 2, 3, 4, 5, 6, 7, 8, 9, 10]\n",
        "numbers.append(11)\n",
        "print(numbers)"
      ],
      "metadata": {
        "colab": {
          "base_uri": "https://localhost:8080/"
        },
        "id": "_6ao5ZbpV2A8",
        "outputId": "af88ecf5-cab1-40fe-e02f-3ff56216cb87"
      },
      "execution_count": 33,
      "outputs": [
        {
          "output_type": "stream",
          "name": "stdout",
          "text": [
            "[1, 2, 3, 4, 5, 6, 7, 8, 9, 10, 11]\n"
          ]
        }
      ]
    },
    {
      "cell_type": "markdown",
      "source": [
        "3"
      ],
      "metadata": {
        "id": "5vJZ5Ym4Vv4f"
      }
    },
    {
      "cell_type": "code",
      "source": [
        "#Insert new item before the last element\n",
        "numbers = [1, 2, 3, 4, 5, 6, 7, 8, 9, 10]\n",
        "numbers.insert(9, 11)\n",
        "print(numbers)"
      ],
      "metadata": {
        "colab": {
          "base_uri": "https://localhost:8080/"
        },
        "id": "bVMsVNzBKBOO",
        "outputId": "0bf6b16d-4c0a-433a-d0cb-ac205c302d2e"
      },
      "execution_count": 8,
      "outputs": [
        {
          "output_type": "stream",
          "name": "stdout",
          "text": [
            "[1, 2, 3, 4, 5, 6, 7, 8, 9, 11, 10]\n"
          ]
        }
      ]
    },
    {
      "cell_type": "markdown",
      "source": [
        "4"
      ],
      "metadata": {
        "id": "1w2UQ6XxVwii"
      }
    },
    {
      "cell_type": "code",
      "source": [
        "#Reverse the order of items in array\n",
        "numbers = [1, 2, 3, 4, 5]\n",
        "numbers[::-1]"
      ],
      "metadata": {
        "colab": {
          "base_uri": "https://localhost:8080/"
        },
        "id": "GfA-xi-0KCl6",
        "outputId": "16345d71-53c8-484c-e050-06ca13ae26c8"
      },
      "execution_count": 31,
      "outputs": [
        {
          "output_type": "execute_result",
          "data": {
            "text/plain": [
              "[5, 4, 3, 2, 1]"
            ]
          },
          "metadata": {},
          "execution_count": 31
        }
      ]
    },
    {
      "cell_type": "markdown",
      "source": [
        "5"
      ],
      "metadata": {
        "id": "RA8ePW_EVx27"
      }
    },
    {
      "cell_type": "code",
      "source": [
        "#Array size n>=2, integers 1 to n-1, one repeated\n",
        "A = [1, 2, 3, 4, 5, 2]\n",
        "n = len(A)\n",
        "\n",
        "#Find Repeating Element\n",
        "def rep(A, n):\n",
        "  for x in range(n):\n",
        "    for y in range(x + 1, n):\n",
        "      if (A[x] == A[y]):\n",
        "        return A[x]\n",
        "\n",
        "print(rep(A, n))"
      ],
      "metadata": {
        "colab": {
          "base_uri": "https://localhost:8080/"
        },
        "id": "goVCTbzZKDtY",
        "outputId": "28b3be62-3d0d-4081-bdeb-6c05f64f3f88"
      },
      "execution_count": 10,
      "outputs": [
        {
          "output_type": "stream",
          "name": "stdout",
          "text": [
            "2\n"
          ]
        }
      ]
    }
  ]
}