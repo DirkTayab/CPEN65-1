{
  "nbformat": 4,
  "nbformat_minor": 0,
  "metadata": {
    "colab": {
      "provenance": [],
      "authorship_tag": "ABX9TyOP4i0btZ5v60mLzMewYfC4",
      "include_colab_link": true
    },
    "kernelspec": {
      "name": "python3",
      "display_name": "Python 3"
    },
    "language_info": {
      "name": "python"
    }
  },
  "cells": [
    {
      "cell_type": "markdown",
      "metadata": {
        "id": "view-in-github",
        "colab_type": "text"
      },
      "source": [
        "<a href=\"https://colab.research.google.com/github/DirkTayab/CPEN65-1/blob/main/Algorithm_(Area_of_Circle_using_radius_or_diameter).ipynb\" target=\"_parent\"><img src=\"https://colab.research.google.com/assets/colab-badge.svg\" alt=\"Open In Colab\"/></a>"
      ]
    },
    {
      "cell_type": "code",
      "source": [
        "import math\n",
        "\n",
        "R = input(\"Radius: \")\n",
        "D = input(\"Diameter: \")\n",
        "\n",
        "if R == \"\":\n",
        "  print(1/4 * math.pi * float(D)**2)\n",
        "if D == \"\":\n",
        "  print(math.pi * float(R)**2)"
      ],
      "metadata": {
        "colab": {
          "base_uri": "https://localhost:8080/"
        },
        "id": "i2yzn5rLXkx8",
        "outputId": "c49bd3d1-36ed-4dc8-c0fa-99338e58c69c"
      },
      "execution_count": 97,
      "outputs": [
        {
          "output_type": "stream",
          "name": "stdout",
          "text": [
            "Radius: 5\n",
            "Diameter: \n",
            "78.53981633974483\n"
          ]
        }
      ]
    },
    {
      "cell_type": "code",
      "source": [
        "import math\n",
        "\n",
        "class C:\n",
        "  r = input(\"Radius: \")\n",
        "  d = input(\"Diameter: \")\n",
        "  def __init__(self, radius, diameter):\n",
        "      self.radius = radius\n",
        "      self.diameter = diameter\n",
        "  def rad(self):\n",
        "      print(math.pi * int(self.radius**2))\n",
        "  def dia(self):\n",
        "      print(math.pi * (1/4) * int(self.diameter**2))\n",
        "\n",
        "a = C(r, d)\n",
        "if d == \"\":\n",
        "  a.rad()\n",
        "if r == \"\":\n",
        "  a.dia()"
      ],
      "metadata": {
        "colab": {
          "base_uri": "https://localhost:8080/"
        },
        "id": "MTOkoNKE290E",
        "outputId": "eb95c2a5-5ced-4677-abbf-36b822aa1fea"
      },
      "execution_count": 126,
      "outputs": [
        {
          "output_type": "stream",
          "name": "stdout",
          "text": [
            "Radius: \n",
            "Diameter: 10\n",
            "78.53981633974483\n"
          ]
        }
      ]
    }
  ]
}