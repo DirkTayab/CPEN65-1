{
  "nbformat": 4,
  "nbformat_minor": 0,
  "metadata": {
    "colab": {
      "provenance": [],
      "authorship_tag": "ABX9TyMOHpTHumxAmID1swxEiFhw",
      "include_colab_link": true
    },
    "kernelspec": {
      "name": "python3",
      "display_name": "Python 3"
    },
    "language_info": {
      "name": "python"
    }
  },
  "cells": [
    {
      "cell_type": "markdown",
      "metadata": {
        "id": "view-in-github",
        "colab_type": "text"
      },
      "source": [
        "<a href=\"https://colab.research.google.com/github/DirkTayab/CPEN65-1/blob/main/Algorithm_(Area_of_Circle_using_radius_or_diameter).ipynb\" target=\"_parent\"><img src=\"https://colab.research.google.com/assets/colab-badge.svg\" alt=\"Open In Colab\"/></a>"
      ]
    },
    {
      "cell_type": "code",
      "source": [
        "import math\n",
        "\n",
        "class Circle:\n",
        "\n",
        "  def __init__(self, radius, diameter):\n",
        "    self.radius = radius\n",
        "    self.diameter = diameter\n",
        "\n",
        "#Area with Radius\n",
        "  def arear(self):\n",
        "    return int(self.radius)**2 * math.pi\n",
        "\n",
        "#Area with Diameter\n",
        "  def aread(self):\n",
        "    return int(self.diameter)**2 * math.pi * 1/4\n",
        "\n",
        "#Inputs\n",
        "r = input(\"Radius: \")\n",
        "d = input(\"Diameter: \")\n",
        "\n",
        "A = Circle(r, d)\n",
        "if r == \"\":\n",
        "  print(round(A.aread(), 2))\n",
        "if d == \"\":\n",
        "  print(round(A.arear(), 2))"
      ],
      "metadata": {
        "id": "TUc37EzrdxaN"
      },
      "execution_count": null,
      "outputs": []
    }
  ]
}