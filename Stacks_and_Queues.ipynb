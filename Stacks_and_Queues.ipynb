{
  "nbformat": 4,
  "nbformat_minor": 0,
  "metadata": {
    "colab": {
      "provenance": [],
      "authorship_tag": "ABX9TyNugMFJsFw09XiFNSdwOpIw",
      "include_colab_link": true
    },
    "kernelspec": {
      "name": "python3",
      "display_name": "Python 3"
    },
    "language_info": {
      "name": "python"
    }
  },
  "cells": [
    {
      "cell_type": "markdown",
      "metadata": {
        "id": "view-in-github",
        "colab_type": "text"
      },
      "source": [
        "<a href=\"https://colab.research.google.com/github/DirkTayab/CPEN65-1/blob/main/Stacks_and_Queues.ipynb\" target=\"_parent\"><img src=\"https://colab.research.google.com/assets/colab-badge.svg\" alt=\"Open In Colab\"/></a>"
      ]
    },
    {
      "cell_type": "code",
      "execution_count": 15,
      "metadata": {
        "colab": {
          "base_uri": "https://localhost:8080/"
        },
        "id": "am_62ucQelpj",
        "outputId": "1d1eada0-1a1d-4d47-b8a4-4e4ff265ef78"
      },
      "outputs": [
        {
          "output_type": "stream",
          "name": "stdout",
          "text": [
            "[1, 2, 3]\n",
            "[1]\n"
          ]
        }
      ],
      "source": [
        "class Stack:\n",
        "  def __init__(self):\n",
        "    self.stack = []\n",
        "\n",
        "  def push(self, dataval):\n",
        "    if dataval not in self.stack:\n",
        "      return self.stack.append(dataval)\n",
        "    else:\n",
        "      return False\n",
        "  def pop(self):\n",
        "    if len(self.stack) <= 0:\n",
        "      return (\"No element in stack\")\n",
        "    else:\n",
        "      return self.stack.pop()\n",
        "\n",
        "test = Stack()\n",
        "test.push(1)\n",
        "test.push(2)\n",
        "test.push(3)\n",
        "print(test.stack)\n",
        "\n",
        "test.pop()\n",
        "test.pop()\n",
        "print(test.stack)"
      ]
    },
    {
      "cell_type": "code",
      "source": [
        "class Queue:\n",
        "  def __init__(self):\n",
        "    self.queue = []\n",
        "\n",
        "  def q(self, dataval):\n",
        "    if dataval not in self.queue:\n",
        "      return self.queue.append(dataval)\n",
        "    else:\n",
        "      return False\n",
        "  def dqueue(self):\n",
        "    if len(self.queue) <= 0:\n",
        "      return (\"No element in queue\")\n",
        "    else:\n",
        "      return self.queue.pop(0)\n",
        "\n",
        "\n",
        "test = Queue()\n",
        "test.q(1)\n",
        "test.q(2)\n",
        "test.q(3)\n",
        "test.q(4)\n",
        "test.q(5)\n",
        "test.q(6)\n",
        "test.q(7)\n",
        "print(test.queue)\n",
        "\n",
        "test.dqueue()\n",
        "print(test.queue)\n",
        "\n",
        "test.dqueue()\n",
        "print(test.queue)\n",
        "\n",
        "test.dqueue()\n",
        "print(test.queue)\n",
        "\n",
        "test.dqueue()\n",
        "print(test.queue)\n",
        "\n",
        "test.dqueue()\n",
        "print(test.queue)\n",
        "\n",
        "test.dqueue()\n",
        "print(test.queue)\n"
      ],
      "metadata": {
        "colab": {
          "base_uri": "https://localhost:8080/"
        },
        "id": "PQX98EPoj7R1",
        "outputId": "0669c2e2-3b5c-47fb-c4a5-80dbf10d241c"
      },
      "execution_count": 41,
      "outputs": [
        {
          "output_type": "stream",
          "name": "stdout",
          "text": [
            "[1, 2, 3, 4, 5, 6, 7]\n",
            "[2, 3, 4, 5, 6, 7]\n",
            "[3, 4, 5, 6, 7]\n",
            "[4, 5, 6, 7]\n",
            "[5, 6, 7]\n",
            "[6, 7]\n",
            "[7]\n"
          ]
        }
      ]
    }
  ]
}