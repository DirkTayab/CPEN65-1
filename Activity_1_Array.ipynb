{
  "nbformat": 4,
  "nbformat_minor": 0,
  "metadata": {
    "colab": {
      "provenance": [],
      "authorship_tag": "ABX9TyPZ/Dxat7VdorauJLJridiQ",
      "include_colab_link": true
    },
    "kernelspec": {
      "name": "python3",
      "display_name": "Python 3"
    },
    "language_info": {
      "name": "python"
    }
  },
  "cells": [
    {
      "cell_type": "markdown",
      "metadata": {
        "id": "view-in-github",
        "colab_type": "text"
      },
      "source": [
        "<a href=\"https://colab.research.google.com/github/DirkTayab/CPEN65-1/blob/main/Activity_1_Array.ipynb\" target=\"_parent\"><img src=\"https://colab.research.google.com/assets/colab-badge.svg\" alt=\"Open In Colab\"/></a>"
      ]
    },
    {
      "cell_type": "code",
      "execution_count": 1,
      "metadata": {
        "colab": {
          "base_uri": "https://localhost:8080/"
        },
        "id": "x1DX1sR8BIrR",
        "outputId": "3bdcd95f-0ada-4429-e671-4d7fe0724d33"
      },
      "outputs": [
        {
          "output_type": "stream",
          "name": "stdout",
          "text": [
            "['b', 'a', 'y', 'a', 'T', ' ', 'M', ' ', 'k', 'r', 'i', 'D']\n"
          ]
        }
      ],
      "source": [
        "Fullname = \"Dirk M Tayab\"\n",
        "Array = list(Fullname)\n",
        "Array.reverse()\n",
        "print(Array)"
      ]
    }
  ]
}